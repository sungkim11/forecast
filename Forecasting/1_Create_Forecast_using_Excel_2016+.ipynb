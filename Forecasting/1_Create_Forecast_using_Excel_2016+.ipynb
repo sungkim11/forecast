{
  "nbformat": 4,
  "nbformat_minor": 0,
  "metadata": {
    "colab": {
      "name": "1_Create_Forecast_using_Excel_2016+.ipynb",
      "version": "0.3.2",
      "provenance": [],
      "include_colab_link": true
    },
    "language_info": {
      "codemirror_mode": {
        "name": "ipython",
        "version": 3
      },
      "file_extension": ".py",
      "mimetype": "text/x-python",
      "name": "python",
      "nbconvert_exporter": "python",
      "pygments_lexer": "ipython3",
      "version": "3.7.1"
    },
    "kernelspec": {
      "display_name": "Python 3",
      "language": "python",
      "name": "python3"
    }
  },
  "cells": [
    {
      "cell_type": "markdown",
      "metadata": {
        "id": "view-in-github",
        "colab_type": "text"
      },
      "source": [
        "<a href=\"https://colab.research.google.com/github/sungkim11/machine_learning/blob/dev/Forecasting/1_Create_Forecast_using_Excel_2016%2B.ipynb\" target=\"_parent\"><img src=\"https://colab.research.google.com/assets/colab-badge.svg\" alt=\"Open In Colab\"/></a>"
      ]
    },
    {
      "cell_type": "markdown",
      "metadata": {
        "id": "GvBLjLvvH8An",
        "colab_type": "text"
      },
      "source": [
        "# Data Science for Business Users "
      ]
    },
    {
      "cell_type": "markdown",
      "metadata": {
        "id": "p65qGZ_gH8Ap",
        "colab_type": "text"
      },
      "source": [
        "## Forecasting Part 1 - Create Forecast using Excel 2016/2019"
      ]
    },
    {
      "cell_type": "markdown",
      "metadata": {
        "id": "UTLUVZUEH8Ar",
        "colab_type": "text"
      },
      "source": [
        "#### &emsp;Author:&emsp;&emsp;Mediumworx Analytics\n",
        "#### &emsp;Date:&emsp;&emsp;&emsp;January 15, 2019\n",
        "#### &emsp;Version:&emsp;&emsp;0.5\n",
        "#### &emsp;Revisions:&emsp;\n",
        "* 0.1. Initial version\n",
        "* 0.2. Added Forecast section\n",
        "* 0.3. Added Validate section as well as fix special character issues.\n",
        "* 0.4. Added Maintain section as well as fixed some spelling and grammar mistakes.\n",
        "* 0.5. Refined the tutorial."
      ]
    },
    {
      "cell_type": "markdown",
      "metadata": {
        "id": "LKcpii62H8As",
        "colab_type": "text"
      },
      "source": [
        "_This tutorial was created to democratize data science for business users (i.e., minimize usage of advanced mathematics topics) and alleviate personal frustration we have experienced on following tutorials and struggling to apply that same tutorial for our needs. In light of this, our mission is as follows:_\n",
        "* _Provide practical application of data science tasks with minimal usage of advanced mathematical topics_\n",
        "* _Only use a full set of data, which are similar to data we see in business environment and that are publicly available in a tutorial, instead of using simple data or snippets of data used by many tutorials_\n",
        "* _Clearly state the prerequisites at beginning of the tutorial.  We will try to provide additional information on those prerequisites_\n",
        "* _Provide both written tutorial and video tutorial on each topic to ensure all steps are easy to follow and clearly illustrated_"
      ]
    },
    {
      "cell_type": "markdown",
      "metadata": {
        "id": "tfS5PmCTH8At",
        "colab_type": "text"
      },
      "source": [
        "### 1. Description"
      ]
    },
    {
      "cell_type": "markdown",
      "metadata": {
        "id": "RFvBlwqJH8Au",
        "colab_type": "text"
      },
      "source": [
        "This is part one of series on how to create a forecast, using one of the most widely used data science tool - Excel. If you are surprised by this statement, then we refer you to www.kdnuggets.com (one of the most widely followed blog for data science).  They conduct annual poll on tools and according to the poll, Excel is one of the most widely used tool by data scientists (https://www.kdnuggets.com/2018/05/poll-tools-analytics-data-science-machine-learning-results.html). If you have a question about using Excel, just ask any data scientist in your organization. They are most likely to be Excel expert and they will probably be able to assist you.\n",
        "\n",
        "Forecasting is the process of making predictions of the future based on past and present data and its trend. The accuracy of forecast decreases as you stretch out your forecast. For example, if you are forecasting monthly sales then accuracy of forecast for month 1 sales of forecast will be higher than month 2 sales of forecast and so on. One of my co-worker likes to state that best way to predict tomorrow's weather is to assume it is similar to today's weather. Everything else is just a guess.\n",
        "\n",
        "Forecasting Series consists of:\n",
        "* __Part 1 - Create Forecast using Excel 2016/2019__\n",
        "* Part 2 - Fine-Tune Forecast using Excel 2016/2019\n",
        "* Part 3.1 - Create Forecast using Python - ARIMA\n",
        "* Part 3.2 - Fine-Tune Forecast using Python - ARIMA\n",
        "* Part 3.3 - Extend Forecast (Python) to include What-If Analysis Capabilities - ARIMA\n",
        "* Part 4.1 - Create Forecast using Python - Prophet\n",
        "* Part 4.2 - Fine-Tune Forecast using Python - Prophet\n",
        "* Part 4.3 - Extend Forecast (Python) to include What-If Analysis Capabilities - Prophet\n",
        "* Part 5.1 - Create Forecast using Python - LSTM\n",
        "* Part 5.2 - Fine-Tune Forecast using Python - LSTM\n",
        "* Part 5.3 - Extend Forecast (Python) to include What-If Analysis Capabilities - LSTM"
      ]
    },
    {
      "cell_type": "markdown",
      "metadata": {
        "id": "0XDRqplBH8Aw",
        "colab_type": "text"
      },
      "source": [
        "### 2. Prerequisites"
      ]
    },
    {
      "cell_type": "markdown",
      "metadata": {
        "id": "o_N0bqjjH8Ax",
        "colab_type": "text"
      },
      "source": [
        "Following are prerequisites for this tutorial:\n",
        "    - [x] Excel 2016/2019\n",
        "    - [x] Basic knowledge of Excel 2016/2019\n",
        "    - [x] Historical data with same frequency (e.g., hourly, daily, weekly, monthly, quarterly, yearly, etc.), to create a forecast. This is important since you cannot create a forecast without historical data that does not have same frequency. If your data does not follow same frequency then aggregate your data so it will be same frequency. For example, if your data consists of any random two days per week then aggregate (i.e., sum up those two days) your data into a weekly data then create a forecast using aggregated data."
      ]
    },
    {
      "cell_type": "markdown",
      "metadata": {
        "id": "jEC58OhzH8Ay",
        "colab_type": "text"
      },
      "source": [
        "### 3. Steps"
      ]
    },
    {
      "cell_type": "markdown",
      "metadata": {
        "id": "RMcJLg2oH8Az",
        "colab_type": "text"
      },
      "source": [
        "Please follow the step by step instructions, which is divided into 8 major steps as shown below:\n",
        "* Get Data\n",
        "* Format Data\n",
        "* Cleanse Data\n",
        "* Analyze Data\n",
        "* Prep Data\n",
        "* Create Forecast\n",
        "* Validate Forecast\n",
        "* Maintain Forecast"
      ]
    },
    {
      "cell_type": "markdown",
      "metadata": {
        "id": "LdNynTFfH8A0",
        "colab_type": "text"
      },
      "source": [
        "#### 3.1. Get Data"
      ]
    },
    {
      "cell_type": "markdown",
      "metadata": {
        "id": "wcQ2UnXSH8A1",
        "colab_type": "text"
      },
      "source": [
        "United Stated Census Bureau maintains Monthly Retail Trade Report, from January 1992 to Present. This data was picked to illustrate forecasting because it has extensive historical data with same monthly frequency. Data is available as Excel spreadsheet format at https://www.census.gov/retail/mrts/www/mrtssales92-present.xls or you can get the file here =>  [mrtssales92-present.xls](data/mrtssales92-present.xls)"
      ]
    },
    {
      "cell_type": "markdown",
      "metadata": {
        "id": "_KO_8IJFH8A2",
        "colab_type": "text"
      },
      "source": [
        "3.1.1. Click on the link to save Excel spreadsheet to your local directory/folder."
      ]
    },
    {
      "cell_type": "markdown",
      "metadata": {
        "id": "Js4d6NcyH8A2",
        "colab_type": "text"
      },
      "source": [
        "3.1.2. Open the Excel spreadsheet (i.e., Monthly Retail Trade Report)."
      ]
    },
    {
      "cell_type": "markdown",
      "metadata": {
        "id": "8U-fHNINH8A3",
        "colab_type": "text"
      },
      "source": [
        "3.1.3. Monthly Retail Trade Report is organized by year where each year from 1992 to 2018 are separated by worksheet. Within each worksheet, there are two different types of figures - not adjusted and adjusted. For each type, there is summary set of figures followed by more detailed figure, organized by NAICS Code (i.e., North American Industry Classification System - the standard used by Federal statistical agencies in classifying business establishments for the purpose of collecting, analyzing, and publishing statistical data related to the U.S. business economy.) as shown below."
      ]
    },
    {
      "cell_type": "markdown",
      "metadata": {
        "id": "YoHeymOHH8A4",
        "colab_type": "text"
      },
      "source": [
        "![Monthly Retail Trade Report](images/image01.jpg)"
      ]
    },
    {
      "cell_type": "markdown",
      "metadata": {
        "id": "t-6NgD-2H8A5",
        "colab_type": "text"
      },
      "source": [
        "#### 3.2. Format Data"
      ]
    },
    {
      "cell_type": "markdown",
      "metadata": {
        "id": "4hNFOOgnH8A6",
        "colab_type": "text"
      },
      "source": [
        "We will need to format the data in Monthly Retail Trade Report, so we can create a forecast from consolidated multiple years of data. At the same time, this data is bit more extensive then we would like, so we will be filtering data as follow:\n",
        "* Use January 2005 to Present time to ensure cyclic behavior (full economic cycle with boom and recession) is represented in our data\n",
        "* Use \"NOT ADJUSTED\" data as illustrated on cell line 7 to line 12 on the spreadsheet.  Other data is nice, but it is bit much for our needs"
      ]
    },
    {
      "cell_type": "markdown",
      "metadata": {
        "id": "LlRzLIa6H8A7",
        "colab_type": "text"
      },
      "source": [
        "3.2.1. Insert a new worksheet, entitled \"Forecast\"."
      ]
    },
    {
      "cell_type": "markdown",
      "metadata": {
        "id": "b7Ie_ovZH8A8",
        "colab_type": "text"
      },
      "source": [
        "3.2.2. Copy and paste data from 2005 worksheet into \"Forecast\" worksheet.  When pasting data, use \"Transpose\" option on Paste.  It is easier to scroll up and down then scroll sideway to see the data."
      ]
    },
    {
      "cell_type": "markdown",
      "metadata": {
        "id": "dNyU4M7TH8A8",
        "colab_type": "text"
      },
      "source": [
        "3.2.3. Repeat the step 3.2.2 for 2006 thru 2018."
      ]
    },
    {
      "cell_type": "markdown",
      "metadata": {
        "id": "VyLBeyTWH8A9",
        "colab_type": "text"
      },
      "source": [
        "3.2.4. Copy and paste column label at top of pasted data.  Again when pasting data, use \"Transpose\" option on paste."
      ]
    },
    {
      "cell_type": "markdown",
      "metadata": {
        "id": "hPKr4MlmH8A-",
        "colab_type": "text"
      },
      "source": [
        "3.2.5. Insert date column at left of pasted data, start with 01/01/2005 on first row then 02/01/2005 on second row then fill the rows with date.  The end date should be 10/01/2018 as shown below:"
      ]
    },
    {
      "cell_type": "markdown",
      "metadata": {
        "id": "hmtEde-NH8A_",
        "colab_type": "text"
      },
      "source": [
        "![Formatted Monthly Trade Report](images/image02.jpg)"
      ]
    },
    {
      "cell_type": "markdown",
      "metadata": {
        "id": "UUP_7ZHsH8BA",
        "colab_type": "text"
      },
      "source": [
        "3.2.6. Save the spreadsheet as mrtssales92-present_step2.xlsx."
      ]
    },
    {
      "cell_type": "markdown",
      "metadata": {
        "id": "kfMhb6hvH8BA",
        "colab_type": "text"
      },
      "source": [
        "&nbsp;&nbsp;&nbsp;Modified spreadsheet with new \"Forecast\" worksheet is available here => [mrtssales92-present_step1_2.xlsx](data/mrtssales92-present_step1_2.xlsx)"
      ]
    },
    {
      "cell_type": "markdown",
      "metadata": {
        "id": "IBR4zDJ3H8BB",
        "colab_type": "text"
      },
      "source": [
        "#### 3.3. Cleanse Data"
      ]
    },
    {
      "cell_type": "markdown",
      "metadata": {
        "id": "qQKqDX8eH8BC",
        "colab_type": "text"
      },
      "source": [
        "After data has been formatted, we will need to cleanse data. There is a truism in saying that Garbage in Garbage out. Simple thing like if all numbers are stored as number needs to be checked. "
      ]
    },
    {
      "cell_type": "markdown",
      "metadata": {
        "id": "M031FCA8H8BD",
        "colab_type": "text"
      },
      "source": [
        "3.3.1.  Cleanse Data.  Ensure all numbers are stored as number, not text.  Same applies to both date and text.  In addition, ensure all numbers, dates and text are consistent. For example, the number is not stored as number, but as text - for example 121K instead of 121,000.  You will need to cleanse the data to ensure all numbers are stored as number. Formatted Monthly Retail Trade Report does not seem to have any dirty data so this step is not need."
      ]
    },
    {
      "cell_type": "markdown",
      "metadata": {
        "id": "n2C21zOLH8BE",
        "colab_type": "text"
      },
      "source": [
        "#### 3.4.  Analyze Data"
      ]
    },
    {
      "cell_type": "markdown",
      "metadata": {
        "id": "tB-i1rbsH8BF",
        "colab_type": "text"
      },
      "source": [
        "After data has been formatted, we will be analyzing data to look for some specific items.  Those items are:\n",
        "* Missing Data. It would be nice to have all data filled-in, but in real-life that is not always the case.  We will need to identify all missing data and denote as such.\n",
        "* Outliers. Outliers happens.  It would be nice to include them, but it will skew our forecast without additional benefits.  We will need to identify all outliers and denote as such.\n",
        "* Seasonality.  It is a characteristic of data in which data experiences regular and predictable changes which occur every year.  This is important since if the historical data has seasonality then our forecast also needs to reflect this seasonality.\n",
        "* Cyclic Behavior.  It takes place when there are regular fluctuations in the data which usually last for an interval of at least two years, such as economic recession or economic boom. "
      ]
    },
    {
      "cell_type": "markdown",
      "metadata": {
        "id": "j8MDsZQyH8BG",
        "colab_type": "text"
      },
      "source": [
        "3.4.1. Missing Data. Formatted Monthly Trade Report seems to be fully populated, so this step is not need."
      ]
    },
    {
      "cell_type": "markdown",
      "metadata": {
        "id": "IFZfFLMnH8BH",
        "colab_type": "text"
      },
      "source": [
        "3.4.2. Outliers. Simplest way to detect outliers is to create a line chart of the data as shown below since the data points are limited in scope. Formatted Monthly Retail Trade Report seems to be consistent from year to year, so this step is not need."
      ]
    },
    {
      "cell_type": "markdown",
      "metadata": {
        "id": "RN64ge3jH8BI",
        "colab_type": "text"
      },
      "source": [
        "3.4.2.1. Open Excel spreadsheet, entitled \"mrtssales92-present_step1_2.xlsx\" and rename the file to \"mrtssales92-present_step1_4.xlsx\". Step 3 was skipped since we did not make any changes in step 3."
      ]
    },
    {
      "cell_type": "markdown",
      "metadata": {
        "id": "ynXF58iSH8BI",
        "colab_type": "text"
      },
      "source": [
        "3.4.2.2. To create a line chart as shown below, select all data or cell range A1:G167 then select Insert | Insert Line Chart or Area Chart."
      ]
    },
    {
      "cell_type": "markdown",
      "metadata": {
        "id": "n_IhiWrUH8BJ",
        "colab_type": "text"
      },
      "source": [
        "3.4.2.3. Create a new worksheet, entitled \"Analysis\"."
      ]
    },
    {
      "cell_type": "markdown",
      "metadata": {
        "id": "qAIJfXAwH8BK",
        "colab_type": "text"
      },
      "source": [
        "3.4.2.4. Cut and paste newly created line chart to \"Analysis\" worksheet."
      ]
    },
    {
      "cell_type": "markdown",
      "metadata": {
        "id": "uoMRmmoPH8BK",
        "colab_type": "text"
      },
      "source": [
        "![Formatted Monthly Trade Report Chart](images/image03.jpg)"
      ]
    },
    {
      "cell_type": "markdown",
      "metadata": {
        "id": "mjIhaRkFH8BL",
        "colab_type": "text"
      },
      "source": [
        "3.4.3. Seasonality. Simplest way to detect seasonality is to create a line chart for each of labeled data as shown below since the data points are limited in scope. "
      ]
    },
    {
      "cell_type": "markdown",
      "metadata": {
        "id": "GZMb0URBH8BM",
        "colab_type": "text"
      },
      "source": [
        "3.4.3.1. Retail and food services sales, total's seasonality seems be consistent from year to year where sales peak at November/December followed by sales dip in January/February followed by sales recovery in March/April and small dip in sales in September/October. Our forecast need to reflect this seasonality. Copy and paste Monthly Retail Trade Report and modify the line chart by deleting all other lines except for Retail and food services sales, total as shown below."
      ]
    },
    {
      "cell_type": "markdown",
      "metadata": {
        "id": "XmeOO5EgH8BM",
        "colab_type": "text"
      },
      "source": [
        "![Retail and food services sales, total Chart](images/image04.jpg)"
      ]
    },
    {
      "cell_type": "markdown",
      "metadata": {
        "id": "6TOW8ecJH8BN",
        "colab_type": "text"
      },
      "source": [
        "3.4.3.2. Retail and food services excl gasoline stations' seasonality seems be consistent from year to year where sales peak at November/December followed by sales dip in January/February followed by sales recovery in March/April and small dip in sales in September/October. Our forecast need to reflect this seasonality. Copy and paste Monthly Retail Trade Report modify the line chart by deleting all other lines except for Retail and food services excl gasoline stations as shown below."
      ]
    },
    {
      "cell_type": "markdown",
      "metadata": {
        "id": "O3t9MKQxH8BO",
        "colab_type": "text"
      },
      "source": [
        "![Retail sales and food services excl gasoline stations Chart](images/image05.jpg)"
      ]
    },
    {
      "cell_type": "markdown",
      "metadata": {
        "id": "0Ton4a5OH8BO",
        "colab_type": "text"
      },
      "source": [
        "3.4.3.3. Retail sales, total's seasonality seems be consistent from year to year where sales peak at November/December followed by sales dip in January/February followed by sales recovery in March/April and small dip in sales in September/October. Our forecast need to reflect this seasonality. Copy and paste Monthly Retail Trade Report modify the line chart by deleting all other lines except for Retail sales as shown below."
      ]
    },
    {
      "cell_type": "markdown",
      "metadata": {
        "id": "dcOWnDN2H8BP",
        "colab_type": "text"
      },
      "source": [
        "![Retail sales, total Chart](images/image06.jpg)"
      ]
    },
    {
      "cell_type": "markdown",
      "metadata": {
        "id": "8Z58Lb3uH8BQ",
        "colab_type": "text"
      },
      "source": [
        "3.4.3.4. Retail sales and food services excl motor vehicle and parts' seasonality seems be consistent from year to year where sales peak at November/December followed by sales dip in January/February followed by sales recovery in March/April and small dip in sales in September/October. Our forecast need to reflect this seasonality. Copy and paste Monthly Retail Trade Report modify the line chart by deleting all other lines except for Retail sales and food services excl motor vehicle and parts as shown below."
      ]
    },
    {
      "cell_type": "markdown",
      "metadata": {
        "id": "WJjTSepAH8BQ",
        "colab_type": "text"
      },
      "source": [
        "![Retail sales and food services excl motor vehicle and parts Chart](images/image07.jpg)"
      ]
    },
    {
      "cell_type": "markdown",
      "metadata": {
        "id": "SXroXfvlH8BR",
        "colab_type": "text"
      },
      "source": [
        "3.4.3.5. Retail sales and food services excl motor vehicle and parts and gasoline stations' seasonality seems be consistent from year to year where sales peak at November/December followed by sales dip in January/February followed by sales recovery in March/April and small dip in sales in September/October. Our forecast need to reflect this seasonality. Copy and paste Monthly Retail Trade Report modify the line chart by deleting all other lines except for Retail sales and food services excl motor vehicle and parts and gasoline stations as shown below."
      ]
    },
    {
      "cell_type": "markdown",
      "metadata": {
        "id": "H-E-BgnHH8BR",
        "colab_type": "text"
      },
      "source": [
        "![Retail sales and food services excl motor vehicle and parts and gasoline stations](images/image08.jpg)"
      ]
    },
    {
      "cell_type": "markdown",
      "metadata": {
        "id": "nv2RHtMEH8BS",
        "colab_type": "text"
      },
      "source": [
        "3.4.3.6. Retail sales, total (excl. motor vehicle and parts dealers)'s seasonality seems be consistent from year to year where sales peak at November/December followed by sales dip in January/February followed by sales recovery in March/April and small dip in sales in September/October. Our forecast need to reflect this seasonality. Copy and paste Monthly Retail Trade Report modify the line chart by deleting all other lines except for Retail sales, total (excl. motor vehicle and parts dealers) as shown below."
      ]
    },
    {
      "cell_type": "markdown",
      "metadata": {
        "id": "LkKyq8TdH8BT",
        "colab_type": "text"
      },
      "source": [
        "![Retail sales, total (excl. motor vehicle and parts dealers)](images/image09.jpg)"
      ]
    },
    {
      "cell_type": "markdown",
      "metadata": {
        "id": "JJiZaDwRH8BU",
        "colab_type": "text"
      },
      "source": [
        "3.4.4. Cyclic Behavior. Simplest way to detect if the data reflects cyclic behavior is to create a line chart for each of labeled data as shown above since the data points are limited in scope. As you can see from above charts, the data reflects cyclic behavior where there was economic boom between 2005 thru 2006, followed by economic recession between 2007 thru 2009, followed by gradual increase in sales figure between 2010 thru 2015 then economic boom from 2016 to present."
      ]
    },
    {
      "cell_type": "markdown",
      "metadata": {
        "id": "G1PjNkVhH8BU",
        "colab_type": "text"
      },
      "source": [
        "3.4.5. Save the spreadsheet as mrtssales92-present_step1_4.xlsx."
      ]
    },
    {
      "cell_type": "markdown",
      "metadata": {
        "id": "-lWsEuRlH8BV",
        "colab_type": "text"
      },
      "source": [
        "&nbsp;&nbsp;&nbsp;Modified spreadsheet with new \"Analysis\" worksheet is available here => [mrtssales92-present_step1_4.xlsx](data/mrtssales92-present_step4.xlsx)"
      ]
    },
    {
      "cell_type": "markdown",
      "metadata": {
        "id": "hZcvZuwSH8BV",
        "colab_type": "text"
      },
      "source": [
        "#### 3.5. Prep Data"
      ]
    },
    {
      "cell_type": "markdown",
      "metadata": {
        "id": "OufAVG_tH8BW",
        "colab_type": "text"
      },
      "source": [
        "We will need to prep data to ensure we only use clean data to create our forecast.  Some of the basic data prep tasks are:\n",
        "* Remove data outliers. Let say for one month, your sales doubled or tripled due to once in lifetime promotion. This is nice data point to consider, but it will skew our forecast without providing any value. We will need to cap and floor our data to ensure outliers are removed.\n",
        "* Impute missing data. Sometimes, some of the data are just missing for whatever the reason. If the percentage of missing value is low then you can impute that missing data."
      ]
    },
    {
      "cell_type": "markdown",
      "metadata": {
        "id": "-RMHKdwfH8BX",
        "colab_type": "text"
      },
      "source": [
        "#### 3.6. Create Forecast"
      ]
    },
    {
      "cell_type": "markdown",
      "metadata": {
        "id": "K8yleK0kH8BY",
        "colab_type": "text"
      },
      "source": [
        "We spent a lot of time getting data, formatting data, cleansing data, analyzing data and finally prepping data.  In data science, it is normal to spend between 80 to 90 percent of your time performing above tasks. Creating and validating a forecast takes fraction of time of all the data steps."
      ]
    },
    {
      "cell_type": "markdown",
      "metadata": {
        "id": "eBq0jIe9H8BY",
        "colab_type": "text"
      },
      "source": [
        "3.6.1. First, we will be diving data into two sets of data:\n",
        "* Train Data\n",
        "* Test Data"
      ]
    },
    {
      "cell_type": "markdown",
      "metadata": {
        "id": "V1BMB3CoH8BZ",
        "colab_type": "text"
      },
      "source": [
        "Usually we use 70 Train/30 Test (70/30) or 80 Train/20 Test (80/20) split where train data is used to create a forecast and test data is used to validate the forecast, but for simplification purposes, we will split the data as follows:\n",
        "* Train Data: January 2005 thru December 2016\n",
        "* Test Data: January 2017 thru October 2018"
      ]
    },
    {
      "cell_type": "markdown",
      "metadata": {
        "id": "BrB_LjO3H8Ba",
        "colab_type": "text"
      },
      "source": [
        "3.6.2. After we have determined data split, we will use Excel's FORECAST.ETS function, which calculates or predicts a future value based on existing (historical) values by using the AAA version of the Exponential Smoothing (ETS) algorithm. The predicted value is a continuation of the historical values in the specified target date, which should be a continuation of the timeline."
      ]
    },
    {
      "cell_type": "markdown",
      "metadata": {
        "id": "D7YIvUbjH8Bb",
        "colab_type": "text"
      },
      "source": [
        "3.6.3. Open Excel spreadsheet, entitled \"mrtssales92-present_step1_4.xlsx\" and rename the file to \"mrtssales92-present_step1_6.xlsx\".  Step 5 was skipped since we did not make any changes in step 5."
      ]
    },
    {
      "cell_type": "markdown",
      "metadata": {
        "id": "f_9sr4bRH8Bc",
        "colab_type": "text"
      },
      "source": [
        "3.6.4. Navigate to \"Forecast\" worksheet and add new columns:\n",
        "* Column H is used as separator (I like white spaces)\n",
        "* Retail and food services sales, total (Forecast) on column I\n",
        "* Retail sales and food services excl motor vehicle and parts (Forecast) on column J\n",
        "* Retail sales and food services excl gasoline stations (Forecast) on column K\n",
        "* Retail sales and food services excl motor vehicle and parts and gasoline stations (Forecast) on column L\n",
        "* Retail sales, total (Forecast) on column M\n",
        "* Retail sales, total (excl. motor vehicle and parts dealers) (Forecast) on column N"
      ]
    },
    {
      "cell_type": "markdown",
      "metadata": {
        "id": "w-9Z89TQH8Bd",
        "colab_type": "text"
      },
      "source": [
        "3.6.5. Extend date column to 12/1/2020.  Date column is located on column A."
      ]
    },
    {
      "cell_type": "markdown",
      "metadata": {
        "id": "NVsM4I4wH8Bd",
        "colab_type": "text"
      },
      "source": [
        "3.6.6. Now, let's create a forecast for Retail and food services sales, total (located on cell I146) using Excel's FORECAST.ETS function.  It's syntax is FORECAST.ETS(target_date, values, timeline, [seasonality], [data_completion], [aggregation]) and it has following arguments:\n",
        "* Target_date: Required. Since we are forecasting for January 2017 thru December 2020, this is cell which contains dates or cell A146 for January 2017.\n",
        "* Values: Required. Since we will be Retail and food services sales, total's historical data from January 2005 thru December 2016 to create forecast for Retail and food services sales, total, this will be range of cell or cell range \\\\$B\\\\$2:\\\\$B\\\\$145.\n",
        "* Timeline: Required. Since we will be Retail and food services sales, total's historical dates from January 2005 thru December 2016 to create forecast for Retail and food services sales, total, this will be range of cell or cell range \\\\$A\\\\$2:\\\\$A\\\\$145.\n",
        "* Seasonality: Optional. Use default value of 1 for Excel to automatically detect seasonality in data.\n",
        "* Data Completion: Optional. Since there is no missing data, we will just use default value of 1.\n",
        "* Aggregation: Optional. Since our data is monthly data, no aggregation is needed.\n",
        "\n",
        "The completed formula will be =FORECAST.ETS(\\\\$A146,\\\\$B\\\\$2:\\\\$B\\\\$145,\\\\$A\\\\$2:\\\\$A\\\\$145,1,1) for cell I146. Fill-in the values below or to cell I193."
      ]
    },
    {
      "cell_type": "markdown",
      "metadata": {
        "id": "L6UFjYG-H8Be",
        "colab_type": "text"
      },
      "source": [
        "3.6.7. Next, let's create a forecast for Retail sales and food services excl motor vehicle and parts (located on cell J146) using Excel's FORECAST.ETS function.  It's syntax is FORECAST.ETS(target_date, values, timeline, [seasonality], [data_completion], [aggregation]) and it has following arguments:\n",
        "* Target_date: Required. Since we are forecasting for January 2017 thru December 2020, this is cell which contains dates or cell A146 for January 2017.\n",
        "* Values: Required. Since we will be Retail and food services sales, total's historical data from January 2005 thru December 2016 to create forecast for Retail and food services sales, total, this will be range of cell or cell range \\\\C\\\\$2:\\\\$C\\\\$145.\n",
        "* Timeline: Required. Since we will be Retail and food services sales, total's historical dates from January 2005 thru December 2016 to create forecast for Retail and food services sales, total, this will be range of cell or cell range \\\\$A\\\\$2:\\\\$A\\\\$145.\n",
        "* Seasonality: Optional. Use default value of 1 for Excel to automatically detect seasonality in data.\n",
        "* Data Completion: Optional. Since there is no missing data, we will just use default value of 1.\n",
        "* Aggregation: Optional. Since our data is monthly data, no aggregation is needed.\n",
        "\n",
        "The completed formula will be =FORECAST.ETS(\\\\$A146,\\\\$C\\\\$2:\\\\$C\\\\$145,\\\\$A\\\\$2:\\\\$A\\\\$145,1,1) for cell J146. Fill-in the values below or to cell J193."
      ]
    },
    {
      "cell_type": "markdown",
      "metadata": {
        "id": "vWk8-gkUH8Be",
        "colab_type": "text"
      },
      "source": [
        "3.6.8. Next, let's create a forecast for Retail sales and food services excl gasoline stations (Forecast) (located on cell K146) using Excel's FORECAST.ETS function. It's syntax is FORECAST.ETS(target_date, values, timeline, [seasonality], [data_completion], [aggregation]) and it has following arguments:\n",
        "* Target_date: Required. Since we are forecasting for January 2017 thru December 2020, this is cell which contains dates or cell A146 for January 2017.\n",
        "* Values: Required. Since we will be Retail and food services sales, total's historical data from January 2005 thru December 2016 to create forecast for Retail and food services sales, total, this will be range of cell or cell range \\\\$D\\\\$2:\\\\$D\\\\$145.\n",
        "* Timeline: Required. Since we will be Retail and food services sales, total's historical dates from January 2005 thru December 2016 to create forecast for Retail and food services sales, total, this will be range of cell or cell range \\\\$A\\\\$2:\\\\$A\\\\$145.\n",
        "* Seasonality: Optional. we tried to use default value of 1 for Excel to automatically detect seasonality in data, but unfortunately Excel did not detect seasonality even though it exists.  We used \"24\" to force Forecast to have similar seasonality pattern we have witnessed in historical data.\n",
        "* Data Completion: Optional. Since there is no missing data, we will just use default value of 1.\n",
        "* Aggregation: Optional. Since our data is monthly data, no aggregation is needed.\n",
        "\n",
        "The completed formula will be =FORECAST.ETS(\\\\$A146,\\\\$D\\\\$2:\\\\$D\\\\$145,\\\\$A\\\\$2:\\\\$A\\\\$145,1,1) for cell K146. Fill-in the values below or to cell K193."
      ]
    },
    {
      "cell_type": "markdown",
      "metadata": {
        "id": "BNk0HwYyH8Bf",
        "colab_type": "text"
      },
      "source": [
        "3.6.9. Next, let's create a forecast for Retail sales and food services excl motor vehicle and parts and gasoline stations (located on cell L146) using Excel's FORECAST.ETS function.  It's syntax is FORECAST.ETS(target_date, values, timeline, [seasonality], [data_completion], [aggregation]) and it has following arguments:\n",
        "* Target_date: Required. Since we are forecasting for January 2017 thru December 2020, this is cell which contains dates or cell A146 for January 2017.\n",
        "* Values: Required. Since we will be Retail and food services sales, total's historical data from January 2005 thru December 2016 to create forecast for Retail and food services sales, total, this will be range of cell or cell range \\\\$E\\\\$2:\\\\$E\\\\$145.\n",
        "* Timeline: Required. Since we will be Retail and food services sales, total's historical dates from January 2005 thru December 2016 to create forecast for Retail and food services sales, total, this will be range of cell or cell range \\\\$A\\\\$2:\\\\$A\\\\$145.\n",
        "* Seasonality: Optional. Use default value of 1 for Excel to automatically detect seasonality in data.\n",
        "* Data Completion: Optional. Since there is no missing data, we will just use default value of 1.\n",
        "* Aggregation: Optional. Since our data is monthly data, no aggregation is needed.\n",
        "\n",
        "The completed formula will be =FORECAST.ETS(\\\\$A146,\\\\$E\\\\$2:\\\\$E\\\\$145,\\\\$A\\\\$2:\\\\$A\\\\$145,1,1) for cell L146. Fill-in the values below or to cell L193."
      ]
    },
    {
      "cell_type": "markdown",
      "metadata": {
        "id": "aB67LW8uH8Bg",
        "colab_type": "text"
      },
      "source": [
        "3.6.10. Next, let's create a forecast for Retail sales, total  (located on cell M146) using Excel's FORECAST.ETS function.  It's syntax is FORECAST.ETS(target_date, values, timeline, [seasonality], [data_completion], [aggregation]) and it has following arguments:\n",
        "* Target_date: Required. Since we are forecasting for January 2017 thru December 2020, this is cell which contains dates or cell A146 for January 2017.\n",
        "* Values: Required. Since we will be Retail and food services sales, total's historical data from January 2005 thru December 2016 to create forecast for Retail and food services sales, total, this will be range of cell or cell range \\\\$F\\\\$2:\\\\$F\\\\$145.\n",
        "* Timeline: Required. Since we will be Retail and food services sales, total's historical dates from January 2005 thru December 2016 to create forecast for Retail and food services sales, total, this will be range of cell or cell range \\\\$A\\\\$2:\\\\$A\\\\$145.\n",
        "* Seasonality: Optional. Use default value of 1 for Excel to automatically detect seasonality in data.\n",
        "* Data Completion: Optional. Since there is no missing data, we will just use default value of 1.\n",
        "* Aggregation: Optional. Since our data is monthly data, no aggregation is needed.\n",
        "\n",
        "The completed formula will be =FORECAST.ETS(\\\\$A146,\\\\$F\\\\$2:\\\\$F\\\\$145,\\\\$A\\\\$2:\\\\$A\\\\$145,1,1) for cell M146. Fill-in the values below or to cell M193."
      ]
    },
    {
      "cell_type": "markdown",
      "metadata": {
        "id": "Q4gCABzVH8Bh",
        "colab_type": "text"
      },
      "source": [
        "3.6.11. Next, let's create a forecast for Retail sales, total (excl. motor vehicle and parts dealers)  (located on cell N146) using Excel's FORECAST.ETS function.  It's syntax is FORECAST.ETS(target_date, values, timeline, [seasonality], [data_completion], [aggregation]) and it has following arguments:\n",
        "* Target_date: Required. Since we are forecasting for January 2017 thru December 2020, this is cell which contains dates or cell A146 for January 2017.\n",
        "* Values: Required. Since we will be Retail and food services sales, total's historical data from January 2005 thru December 2016 to create forecast for Retail and food services sales, total, this will be range of cell or cell range \\\\$G\\\\$2:\\\\$G\\\\$145.\n",
        "* Timeline: Required. Since we will be Retail and food services sales, total's historical dates from January 2005 thru December 2016 to create forecast for Retail and food services sales, total, this will be range of cell or cell range \\\\$A\\\\$2:\\\\$A\\\\$145.\n",
        "* Seasonality: Optional. Use default value of 1 for Excel to automatically detect seasonality in data.\n",
        "* Data Completion: Optional. Since there is no missing data, we will just use default value of 1.\n",
        "* Aggregation: Optional. Since our data is monthly data, no aggregation is needed.\n",
        "\n",
        "The completed formula will be =FORECAST.ETS(\\\\$A146,\\\\$G\\\\$2:\\\\$G\\\\$145,\\\\$A\\\\$2:\\\\$A\\\\$145,1,1) for cell N146. Fill-in the values below or to cell N193."
      ]
    },
    {
      "cell_type": "markdown",
      "metadata": {
        "id": "CXSnItgdH8Bh",
        "colab_type": "text"
      },
      "source": [
        "3.6.12. Save the spreadsheet as mrtssales92-present_step1_6.xlsx."
      ]
    },
    {
      "cell_type": "markdown",
      "metadata": {
        "id": "u3yVqVXjH8Bi",
        "colab_type": "text"
      },
      "source": [
        "&nbsp;&nbsp;&nbsp;Modified spreadsheet with modified \"Forecast\" worksheet is available here => [mrtssales92-present_step1_6.xlsx](data/mrtssales92-present_step6.xlsx)"
      ]
    },
    {
      "cell_type": "markdown",
      "metadata": {
        "id": "BphQQFlLH8Bi",
        "colab_type": "text"
      },
      "source": [
        "#### 3.7. Validate Forecast"
      ]
    },
    {
      "cell_type": "markdown",
      "metadata": {
        "id": "Dt-PaOSTH8Bj",
        "colab_type": "text"
      },
      "source": [
        "We will need to validate the forecast using the Test data (January 2017 thru October 2018 or 20 months of data) and maybe improve upon the forecast, created by Excel's FORECAST.ETS function."
      ]
    },
    {
      "cell_type": "markdown",
      "metadata": {
        "id": "Y2vGThi6H8Bl",
        "colab_type": "text"
      },
      "source": [
        "3.7.1. First, we will need to validate Forecast (January 2017 thru December 2010) with Actuals (January 2017 thru October 2018)."
      ]
    },
    {
      "cell_type": "markdown",
      "metadata": {
        "id": "_qGZcCacH8Bn",
        "colab_type": "text"
      },
      "source": [
        "3.7.1.1. Open Excel spreadsheet, entitled \"mrtssales92-present_step1_6.xlsx\" and rename the file to \"mrtssales92-present_step1_7.xlsx\"."
      ]
    },
    {
      "cell_type": "markdown",
      "metadata": {
        "id": "Rh5ZKANMH8Bn",
        "colab_type": "text"
      },
      "source": [
        "3.7.1.2. Navigate to \"Forecast\" worksheet and add new columns:\n",
        "* Column O is used as separator (I like white spaces)\n",
        "* Retail and food services sales, total (Forecast Diff) on column P\n",
        "* Retail sales and food services excl motor vehicle and parts (Forecast Diff) on column Q\n",
        "* Retail sales and food services excl gasoline stations (Forecast Diff) on column R\n",
        "* Retail sales and food services excl motor vehicle and parts and gasoline stations (Forecast Diff) on column S\n",
        "* Retail sales, total (Forecast Diff) on column T\n",
        "* Retail sales, total (excl. motor vehicle and parts dealers) (Forecast Diff) on column U"
      ]
    },
    {
      "cell_type": "markdown",
      "metadata": {
        "id": "AhXg50IOH8Bo",
        "colab_type": "text"
      },
      "source": [
        "3.7.1.3. Now, let's create a forecast diff for Retail and food services sales, total, located on cell P146.  The formula is =ABS(B146-I146)/B146.  Fill-in the values below to cell P167."
      ]
    },
    {
      "cell_type": "markdown",
      "metadata": {
        "id": "2MetLHH9H8Bp",
        "colab_type": "text"
      },
      "source": [
        "3.7.1.4. Next, let's create a forecast diff for Retail sales and food services excl motor vehicle and parts, located on cell Q146.  The formula is =ABS(C146-J146)/C146.  Fill-in the values below to cell Q167."
      ]
    },
    {
      "cell_type": "markdown",
      "metadata": {
        "id": "YGsfmbrZH8Bp",
        "colab_type": "text"
      },
      "source": [
        "3.7.1.5. Next, let's create a forecast diff for Retail sales and food services excl gasoline stations, located on cell R146.  The formula is =ABS(D146-K146)/D146.  Fill-in the values below to cell R167."
      ]
    },
    {
      "cell_type": "markdown",
      "metadata": {
        "id": "J7Uqy1crH8Bq",
        "colab_type": "text"
      },
      "source": [
        "3.7.1.6. Next, let's create a forecast diff for Retail sales and food services excl motor vehicle and parts and gasoline stations, located on cell S146.  The formula is =ABS(E146-L146)/E146.  Fill-in the values below to cell S167."
      ]
    },
    {
      "cell_type": "markdown",
      "metadata": {
        "id": "b1hNeCfKH8Bq",
        "colab_type": "text"
      },
      "source": [
        "3.7.1.7. Next, let's create a forecast diff for Retail sales, total, located on cell T146.  The formula is =ABS(F146-M146)/F146.  Fill-in the values below to cell T167."
      ]
    },
    {
      "cell_type": "markdown",
      "metadata": {
        "id": "Tjz4zUz7H8Br",
        "colab_type": "text"
      },
      "source": [
        "3.7.1.8. Next, let's create a forecast diff for Retail sales, total (excl. motor vehicle and parts dealers), located on cell U146.  The formula is =ABS(G146-N146)/G146.  Fill-in the values below to cell U167."
      ]
    },
    {
      "cell_type": "markdown",
      "metadata": {
        "id": "slWYZc9VH8Br",
        "colab_type": "text"
      },
      "source": [
        "Comparing Forecast with Actuals, it seems forecast predicted sales figure worked well compared to actuals as shown below:\n",
        "* Retail and food services sales, total \n",
        "* &nbsp;&nbsp;&nbsp;Absolute Avg Diff: 0.02395833\n",
        "* &nbsp;&nbsp;&nbsp;Max Diff: -0.061331562\n",
        "* &nbsp;&nbsp;&nbsp;Min Diff: 0.001778499\n",
        "* Retail sales and food services excl motor vehicle and parts\n",
        "* &nbsp;&nbsp;&nbsp;Absolute Avg Diff: 0.0216799\n",
        "* &nbsp;&nbsp;&nbsp;Max Diff: -0.054707776\n",
        "* &nbsp;&nbsp;&nbsp;Min Diff: 0.004399175\n",
        "* Retail sales and food services excl gasoline stations\n",
        "* &nbsp;&nbsp;&nbsp;Absolute Avg Diff: 0.017094236\n",
        "* &nbsp;&nbsp;&nbsp;Max Diff: -0.054772583\n",
        "* &nbsp;&nbsp;&nbsp;Min Diff: 0.001791694\n",
        "* Retail sales and food services excl motor vehicle and parts and gasoline stations \n",
        "* &nbsp;&nbsp;&nbsp;Absolute Avg Diff: 0.023225606\n",
        "* &nbsp;&nbsp;&nbsp;Max Diff: -0.070237471\n",
        "* &nbsp;&nbsp;&nbsp;Min Diff: -0.006441288\n",
        "* Retail sales, total\n",
        "* &nbsp;&nbsp;&nbsp;Absolute Avg Diff: 0.022402977\n",
        "* &nbsp;&nbsp;&nbsp;Max Diff: -0.062273887\n",
        "* &nbsp;&nbsp;&nbsp;Min Diff: 0.001141435\n",
        "* Retail sales, total (excl. motor vehicle and parts dealers)\n",
        "* &nbsp;&nbsp;&nbsp;Absolute Avg Diff: 0.022714821\n",
        "* &nbsp;&nbsp;&nbsp;Max Diff: -0.058850847\n",
        "* &nbsp;&nbsp;&nbsp;Min Diff: 0.00364976"
      ]
    },
    {
      "cell_type": "markdown",
      "metadata": {
        "id": "E7ttPCotH8Bs",
        "colab_type": "text"
      },
      "source": [
        "![Monthly Retail Trade Report (Actual vs Forecast Diff Matrix)](images/image17.jpg)"
      ]
    },
    {
      "cell_type": "markdown",
      "metadata": {
        "id": "UUKBJF8JH8Bt",
        "colab_type": "text"
      },
      "source": [
        "3.7.2. Next step is to analyze the forecasted sales figure with actual sales figure by creating a line chart of both to ensure seasonality seen in historical data is reflected on forecast."
      ]
    },
    {
      "cell_type": "markdown",
      "metadata": {
        "id": "iH-qmJcxH8Bt",
        "colab_type": "text"
      },
      "source": [
        "3.7.3.1. Navigate to Analysis worksheet."
      ]
    },
    {
      "cell_type": "markdown",
      "metadata": {
        "id": "SPp16HgdH8Bu",
        "colab_type": "text"
      },
      "source": [
        "3.7.3.2. On right of existing \"Monthly Retail Trade Report\", create a line chart that combines actual Monthly Retail Trade Report with adjusted forecast Monthly Retail Trade Report as shown below, label as \"Monthly Retail Trade Report (Actual and Forecast)\"."
      ]
    },
    {
      "cell_type": "markdown",
      "metadata": {
        "id": "NX37V3lcH8Bu",
        "colab_type": "text"
      },
      "source": [
        "![Monthly Retail Trade Report (Actual and Forecast)](images/image10.jpg)"
      ]
    },
    {
      "cell_type": "markdown",
      "metadata": {
        "id": "22kBt0ilH8Bv",
        "colab_type": "text"
      },
      "source": [
        "3.7.3.3. On right of existing \"Retail and food services sales, total (Actual)\", create a line chart that combines actual Retail and food services sales, total with adjusted forecast Retail and food services sales, total as shown below, label as \"Retail and food services sales, total (Actual and Forecast)\"."
      ]
    },
    {
      "cell_type": "markdown",
      "metadata": {
        "id": "v764hborH8Bv",
        "colab_type": "text"
      },
      "source": [
        "![Retail and food services sales, total (Actual and Forecast)](images/image11.jpg)"
      ]
    },
    {
      "cell_type": "markdown",
      "metadata": {
        "id": "yr8RLNfzH8Bw",
        "colab_type": "text"
      },
      "source": [
        "3.7.3.4. On right of existing \"Retail and food services excl gasoline stations (Actual)\", create a line chart that combines actual Retail and food services excl gasoline stations, total with adjusted forecast Retail and food services excl gasoline stations as shown below, label as \"Retail and food services excl gasoline stations (Actual and Forecast)\"."
      ]
    },
    {
      "cell_type": "markdown",
      "metadata": {
        "id": "fUrpR-ePH8Bx",
        "colab_type": "text"
      },
      "source": [
        "![Retail sales and food services excl gasoline stations (Actual and Forecast)](images/image12.jpg)"
      ]
    },
    {
      "cell_type": "markdown",
      "metadata": {
        "id": "k_8rtWXfH8By",
        "colab_type": "text"
      },
      "source": [
        "3.7.3.5. On right of existing \"Retail sales, total (Actual)\", create a line chart that combines actual Retail sales, total with adjusted forecast Retail sales, total as shown below, label as \"Retail sales, total (Actual and Forecast)\"."
      ]
    },
    {
      "cell_type": "markdown",
      "metadata": {
        "id": "Dt5AHgYuH8By",
        "colab_type": "text"
      },
      "source": [
        "![Retail sales, total (Actual and Forecast)](images/image13.jpg)"
      ]
    },
    {
      "cell_type": "markdown",
      "metadata": {
        "id": "3ZwxftQJH8Bz",
        "colab_type": "text"
      },
      "source": [
        "3.7.3.6. On right of existing \"Retail sales and food services excl motor vehicle and parts (Actual)\", create a line chart that combines actual Retail sales and food services excl motor vehicle and parts with adjusted forecast Retail sales and food services excl motor vehicle and parts as shown below, label as \"Retail sales and food services excl motor vehicle and parts (Actual and Forecast)\"."
      ]
    },
    {
      "cell_type": "markdown",
      "metadata": {
        "id": "Uky4Bnd0H8Bz",
        "colab_type": "text"
      },
      "source": [
        "![Retail sales and food services excl motor vehicle and parts and gasoline stations (Actual and Forecast)](images/image14.jpg)"
      ]
    },
    {
      "cell_type": "markdown",
      "metadata": {
        "id": "r4uEXEyNH8B0",
        "colab_type": "text"
      },
      "source": [
        "3.7.3.7. On right of existing \"Retail sales and food services excl motor vehicle and parts and gasoline stations (Actual)\", create a line chart that combines actual Retail sales and food services excl motor vehicle and parts and gasoline stations with adjusted forecast Retail sales and food services excl motor vehicle and parts and gasoline stations as shown below, label as \"Retail sales and food services excl motor vehicle and parts and gasoline stations (Actual and Forecast)\"."
      ]
    },
    {
      "cell_type": "markdown",
      "metadata": {
        "id": "Pl-1fKWSH8B1",
        "colab_type": "text"
      },
      "source": [
        "![Retail sales, total (Actual and Forecast)](images/image15.jpg)"
      ]
    },
    {
      "cell_type": "markdown",
      "metadata": {
        "id": "a4qhrZLFH8B1",
        "colab_type": "text"
      },
      "source": [
        "3.7.3.8. On right of existing \"Retail sales, total (Actual)\", create a line chart that combines actual Retail sales, total with adjusted forecast Retail sales, total as shown below, label as \"Retail sales, total (Actual and Forecast)\"."
      ]
    },
    {
      "cell_type": "markdown",
      "metadata": {
        "id": "3yZbM1rcH8B2",
        "colab_type": "text"
      },
      "source": [
        "![Retail sales, total (excl. motor vehicle and parts dealers) (Actual and Forecast)](images/image16.jpg)"
      ]
    },
    {
      "cell_type": "markdown",
      "metadata": {
        "id": "4JalpPD7H8B2",
        "colab_type": "text"
      },
      "source": [
        "3.7.4. Save the spreadsheet as mrtssales92-present_step1_7.xlsx."
      ]
    },
    {
      "cell_type": "markdown",
      "metadata": {
        "id": "E77TwOo8H8B3",
        "colab_type": "text"
      },
      "source": [
        "&nbsp;&nbsp;&nbsp;Modified spreadsheet with validated \"Forecast\" worksheet is available here => [mrtssales92-present_step1_7.xlsx](data/mrtssales92-present_step7.xlsx)"
      ]
    },
    {
      "cell_type": "markdown",
      "metadata": {
        "id": "acRwz1vkH8B3",
        "colab_type": "text"
      },
      "source": [
        "#### 3.8. Maintain Forecast"
      ]
    },
    {
      "cell_type": "markdown",
      "metadata": {
        "id": "E0u1lCF-H8B4",
        "colab_type": "text"
      },
      "source": [
        "Like everything, newly created forecast needs to be maintained.  More likely on a monthly basis since this is monthly forecast, forecast needs to be updated to reflect revised trend."
      ]
    },
    {
      "cell_type": "markdown",
      "metadata": {
        "id": "oSzDyze9H8B5",
        "colab_type": "text"
      },
      "source": [
        "To revise the forecast to reflect more up to date data, follow the steps above where you will revise step 3.6.1.\n",
        "\n",
        "When diving data into two sets of data:\n",
        "- Train Data: January 2005 thru January 2017 (+ 1 month)\n",
        "- Test Data: February 2017 (+ 1 month) thru November 2018 (+ 1 month)\n",
        "\n",
        "Repeat the process for all subsequent months."
      ]
    },
    {
      "cell_type": "markdown",
      "metadata": {
        "id": "hgdM_oDgH8B5",
        "colab_type": "text"
      },
      "source": [
        "### I hope you have enjoyed this tutorial. If you have any questions or comments, please provide them via Issues feature on GitHub"
      ]
    }
  ]
}